{
  "nbformat": 4,
  "nbformat_minor": 0,
  "metadata": {
    "colab": {
      "provenance": []
    },
    "kernelspec": {
      "name": "python3",
      "display_name": "Python 3"
    },
    "language_info": {
      "name": "python"
    }
  },
  "cells": [
    {
      "cell_type": "markdown",
      "source": [
        "#Files, exceptional handling, logging and memory management Questions"
      ],
      "metadata": {
        "id": "yJAa_l-ut24z"
      }
    },
    {
      "cell_type": "markdown",
      "source": [
        "1.What is the difference between interpreted and compiled languages ?\n",
        "  - Interpreted languages run the code line-by-line at runtime so the program is executed directly without creating a separate machine code file. They are generally easier to debug but slower in execution.\n",
        "\n",
        "  - Compiled languages first translate the entire code into machine code using a compiler before running it. This makes them faster at execution, but changes require recompiling.\n",
        "\n",
        "2.What is exception handling in Python?\n",
        "  - Exception handling in Python is a way to manage errors in a program without stopping its execution. It uses keywords like try, except, else, and finally to detect, handle, and recover from exceptions. This ensures the program runs smoothly even when unexpected issues occur.\n",
        "\n",
        "3.What is the purpose of the finally block in exception handling?\n",
        "  - The finally block in Python is used to write code that always runs, no matter if an exception occurs or not.It often used for cleanup tasks like closing files, releasing resources, or disconnecting from a database.\n",
        "\n",
        "4.What is logging in Python?\n",
        "  - Logging in Python is the process of recording messages about a program execution such as errors, warnings, or status updates to help with debugging and monitoring.It uses Python built-in logging module which can store these messages in the console or in files.\n",
        "\n",
        "5.What is the significance of the __del__ method in Python?\n",
        "  - The __del__ method in Python is a destructor it is automatically called when an object is about to be destroyed from memory.It mainly used to clean up resources like closing files, releasing memory, or disconnecting from databases before the object is removed\n",
        "\n",
        "6.What is the difference between import and from ... import in Python?\n",
        "  - import module_name : Imports the whole module. You need to use the module   name to access its functions/variables.\n",
        "  - from module_name import name : Imports only specific functions, classes, or variables from a module. You can use them directly without the module name.\n",
        "\n",
        "7.How can you handle multiple exceptions in Python?\n",
        "  - Using separate except blocks – Each except handles a specific type of exception.\n",
        "  - Using a single except block with multiple exceptions – The exception types are grouped inside parentheses.\n",
        "\n",
        "8.What is the purpose of the with statement when handling files in Python?\n",
        "  - The with statement in Python is used for context management when working with files.\n",
        "  Its main purpose is to automatically handle resource management it opens the file lets you work with it and then closes it automatically even if an error occurs.\n",
        "  This makes the code cleaner safer and prevents resource leaks.\n",
        "\n",
        "9.What is the difference between multithreading and multiprocessing?\n",
        "  - Multithreading → Uses multiple threads within the same process to run tasks concurrently. Threads share the same memory space, which makes data sharing easier but can cause issues like the Global Interpreter Lock (GIL) in Python.\n",
        "\n",
        "  - Multiprocessing → Uses multiple processes, each with its own memory space. This avoids the GIL and allows true parallel execution, making it better for CPU-bound tasks.\n",
        "\n",
        "10.What are the advantages of using logging in a program?\n",
        "   - Tracks program execution – Helps record what the program is doing at different points.\n",
        "\n",
        "   - Easier debugging – Provides detailed error and status information without stopping the program.\n",
        "\n",
        "   - Permanent record – Can store logs in files for future analysis.\n",
        "\n",
        "   - Customizable levels – Allows different message levels like DEBUG, INFO, WARNING, ERROR, and CRITICAL.\n",
        "\n",
        "   - Helps in maintenance – Makes it easier to identify and fix problems later.\n",
        "\n",
        "11.What is memory management in Python?\n",
        "   - Memory management in Python refers to the process of allocating, using, and releasing memory for program objects and data.\n",
        "\n",
        "12.What are the basic steps involved in exception handling in Python?\n",
        "   - Write risky code inside a try block – The code that may cause an exception is placed here.\n",
        "\n",
        "   - Catch the exception with except block(s) – Defines how to handle specific or multiple exceptions.\n",
        "\n",
        "   - (Optional) Use else block – Runs only if no exception occurs in the try block.\n",
        "\n",
        "   - (Optional) Use finally block – Contains code that always runs, whether an  exception occurs or not (e.g., cleanup tasks).\n",
        "\n",
        "13.Why is memory management important in Python?\n",
        "   - Memory management is important in Python because it ensures that the program uses system memory efficiently, prevents memory leaks, and maintains good performance.\n",
        "\n",
        "14.What is the role of try and except in exception handling?\n",
        "   - try block → Contains the code that might raise an exception (error).\n",
        "\n",
        "   - except block → Contains the code that runs if an exception occurs in the try block, allowing the program to handle the error without crashing.\n",
        "\n",
        "15.How does Python's garbage collection system work?\n",
        "   - Python’s garbage collection system automatically manages memory by removing objects that are no longer needed, freeing up space for new objects.\n",
        "\n",
        "16.What is the purpose of the else block in exception handling?\n",
        "   - The else block in Python’s exception handling is used to write code that should run only if no exception occurs in the try block.\n",
        "   - It helps separate normal execution code from error-handling code, making the program cleaner and easier to read.\n",
        "\n",
        "17.What are the common logging levels in Python?\n",
        "   - DEBUG – Detailed information, usually for diagnosing problems during development.\n",
        "\n",
        "   - INFO – General information about program execution.\n",
        "\n",
        "   - WARNING – Indicates something unexpected happened, but the program is still running.\n",
        "\n",
        "   - ERROR – A serious issue that caused part of the program to fail.\n",
        "\n",
        "   - CRITICAL – A very serious error that may stop the program entirely.\n",
        "\n",
        "18.What is the difference between os.fork() and multiprocessing in Python?\n",
        "   - os.fork() is a low-level, Unix-only method to create a child process, while multiprocessing is a high-level, cross-platform module for creating and managing processes easily.\n",
        "\n",
        "19.What is the importance of closing a file in Python?\n",
        "   - Closing a file in Python is important because it frees system resources, saves any changes to disk, and prevents data corruption or file access issues.\n",
        "\n",
        "20.What is the difference between file.read() and file.readline() in Python?\n",
        "   - file.read() reads the entire file content at once, while file.readline() reads only one line at a time.\n",
        "\n",
        "21.What is the logging module in Python used for?\n",
        "   - The logging module in Python is used to record messages about a program’s execution such as errors, warnings, and status updates for debugging, monitoring, and troubleshooting.\n",
        "\n",
        "22.What is the os module in Python used for in file handling?\n",
        "   - The os module in Python is used for file handling tasks like creating, deleting, renaming, and managing files and directories, as well as interacting with the operating system.\n",
        "\n",
        "23.What are the challenges associated with memory management in Python?\n",
        "   - Garbage collection overhead – Automatic cleanup can slow down performance.\n",
        "\n",
        "   - Memory leaks – Can occur if objects are unintentionally referenced.\n",
        "\n",
        "   - Fragmentation – Frequent allocation and deallocation may cause scattered free memory blocks.\n",
        "\n",
        "   - Large object handling – Storing big datasets can quickly exhaust available memory.\n",
        "\n",
        "24.How do you raise an exception manually in Python?\n",
        "   - In Python, an exception can be raised manually using the raise keyword followed by the exception type.It is used to signal that an error has occurred and stop normal program execution.\n",
        "\n",
        "25.Why is it important to use multithreading in certain applications?\n",
        "   - It is important to use multithreading in certain applications because it allows multiple tasks to run concurrently within the same program, improving performance for I/O-bound operations, making applications more responsive, and efficiently utilizing CPU idle time during waiting periods.\n",
        "\n",
        "\n",
        "\n",
        "\n",
        "\n"
      ],
      "metadata": {
        "id": "pmngLpYguWfZ"
      }
    },
    {
      "cell_type": "code",
      "execution_count": 4,
      "metadata": {
        "id": "7lIC70vBs5Ob"
      },
      "outputs": [],
      "source": [
        "#1.How can you open a file for writing in Python and write a string to it?\n",
        "\n",
        "file = open(\"example.txt\", \"w\")\n",
        "file.write(\"Hello, Python!\")\n",
        "file.close()\n"
      ]
    },
    {
      "cell_type": "code",
      "source": [
        "#2.Write a Python program to read the contents of a file and print each line\n",
        "\n",
        "file = open(\"example.txt\", \"r\")\n",
        "for line in file:\n",
        "    print(line.strip())\n",
        "file.close()\n"
      ],
      "metadata": {
        "colab": {
          "base_uri": "https://localhost:8080/"
        },
        "id": "bJ_OkC-O6met",
        "outputId": "3213da33-af98-4c8c-9a82-43a3e20fca6a"
      },
      "execution_count": 2,
      "outputs": [
        {
          "output_type": "stream",
          "name": "stdout",
          "text": [
            "Hello, Python!\n"
          ]
        }
      ]
    },
    {
      "cell_type": "code",
      "source": [
        "#3.How would you handle a case where the file doesn't exist while trying to open it for reading?\n",
        "\n",
        "try:\n",
        "    file = open(\"example.txt\", \"r\")\n",
        "    print(file.read())\n",
        "    file.close()\n",
        "except FileNotFoundError:\n",
        "    print(\"File not found!\")\n"
      ],
      "metadata": {
        "colab": {
          "base_uri": "https://localhost:8080/"
        },
        "id": "4Wf8D847672d",
        "outputId": "087b2406-f5b3-4072-dcc0-933ecbf1cfa3"
      },
      "execution_count": 3,
      "outputs": [
        {
          "output_type": "stream",
          "name": "stdout",
          "text": [
            "Hello, Python!\n"
          ]
        }
      ]
    },
    {
      "cell_type": "code",
      "source": [
        "#4.Write a Python script that reads from one file and writes its content to another file.\n",
        "\n",
        "with open(\"source.txt\", \"r\") as src:\n",
        "    content = src.read()\n",
        "\n",
        "with open(\"destination.txt\", \"w\") as dest:\n",
        "    dest.write(content)\n"
      ],
      "metadata": {
        "collapsed": true,
        "id": "AUv52PaC7IjP"
      },
      "execution_count": null,
      "outputs": []
    },
    {
      "cell_type": "code",
      "source": [
        "#5.How would you catch and handle division by zero error in Python?\n",
        "\n",
        "try:\n",
        "    result = 10 / 0\n",
        "except ZeroDivisionError:\n",
        "    print(\"Cannot divide by zero!\")\n"
      ],
      "metadata": {
        "colab": {
          "base_uri": "https://localhost:8080/"
        },
        "id": "K1NJUsID7buC",
        "outputId": "18612323-51ea-4d6b-f819-9e5d4d0d5c66"
      },
      "execution_count": 7,
      "outputs": [
        {
          "output_type": "stream",
          "name": "stdout",
          "text": [
            "Cannot divide by zero!\n"
          ]
        }
      ]
    },
    {
      "cell_type": "code",
      "source": [
        "#6.Write a Python program that logs an error message to a log file when a division by zero exception occurs.\n",
        "\n",
        "import logging\n",
        "\n",
        "logging.basicConfig(filename=\"error.log\", level=logging.ERROR)\n",
        "\n",
        "try:\n",
        "    num1 = 10\n",
        "    num2 = 0\n",
        "    result = num1 / num2\n",
        "except ZeroDivisionError as e:\n",
        "    logging.error(f\"Division by zero occurred: {e}\")\n"
      ],
      "metadata": {
        "colab": {
          "base_uri": "https://localhost:8080/"
        },
        "id": "0RyW_AiC8Ak-",
        "outputId": "2f229c0a-2f9a-4baf-9d08-fdc8a501f347"
      },
      "execution_count": 8,
      "outputs": [
        {
          "output_type": "stream",
          "name": "stderr",
          "text": [
            "ERROR:root:Division by zero occurred: division by zero\n"
          ]
        }
      ]
    },
    {
      "cell_type": "code",
      "source": [
        "#7. How do you log information at different levels (INFO, ERROR, WARNING) in Python using the logging module?\n",
        "\n",
        "import logging\n",
        "\n",
        "\n",
        "logging.basicConfig(\n",
        "    filename=\"app.log\",\n",
        "    level=logging.DEBUG,\n",
        "    format=\"%(asctime)s - %(levelname)s - %(message)s\"\n",
        ")\n",
        "\n",
        "logging.debug(\"This is a DEBUG message – used for troubleshooting.\")\n",
        "logging.info(\"This is an INFO message – general program update.\")\n",
        "logging.warning(\"This is a WARNING – something might be wrong.\")\n",
        "logging.error(\"This is an ERROR – an operation failed.\")\n",
        "logging.critical(\"This is CRITICAL – the program might stop.\")\n"
      ],
      "metadata": {
        "colab": {
          "base_uri": "https://localhost:8080/"
        },
        "id": "mPuTRFIl8YmW",
        "outputId": "c958effc-bceb-41e2-dd6f-62da99f2b3c6"
      },
      "execution_count": 9,
      "outputs": [
        {
          "output_type": "stream",
          "name": "stderr",
          "text": [
            "WARNING:root:This is a WARNING – something might be wrong.\n",
            "ERROR:root:This is an ERROR – an operation failed.\n",
            "CRITICAL:root:This is CRITICAL – the program might stop.\n"
          ]
        }
      ]
    },
    {
      "cell_type": "code",
      "source": [
        "#8.Write a program to handle a file opening error using exception handling.\n",
        "\n",
        "try:\n",
        "    file = open(\"non_existing_file.txt\", \"r\")\n",
        "    content = file.read()\n",
        "    file.close()\n",
        "except FileNotFoundError:\n",
        "    print(\"Error: The file was not found.\")\n",
        "except IOError:\n",
        "    print(\"Error: An I/O error occurred.\")\n"
      ],
      "metadata": {
        "colab": {
          "base_uri": "https://localhost:8080/"
        },
        "id": "kmE3PzXg8pQj",
        "outputId": "4e8bb926-9bf6-4913-9c8c-f103fbbc6fd6"
      },
      "execution_count": 10,
      "outputs": [
        {
          "output_type": "stream",
          "name": "stdout",
          "text": [
            "Error: The file was not found.\n"
          ]
        }
      ]
    },
    {
      "cell_type": "code",
      "source": [
        "#9. How can you read a file line by line and store its content in a list in Python?\n",
        "\n",
        "try:\n",
        "    with open(\"example.txt\", \"r\") as file:\n",
        "        lines = file.readlines()\n",
        "    print(lines)\n",
        "except FileNotFoundError:\n",
        "    print(\"Error: File not found.\")\n"
      ],
      "metadata": {
        "colab": {
          "base_uri": "https://localhost:8080/"
        },
        "id": "g9ZKgwfN8x0f",
        "outputId": "4f55c3f1-cc16-4318-c897-04a82dc6d624"
      },
      "execution_count": 11,
      "outputs": [
        {
          "output_type": "stream",
          "name": "stdout",
          "text": [
            "['Hello, Python!']\n"
          ]
        }
      ]
    },
    {
      "cell_type": "code",
      "source": [
        "#10.How can you append data to an existing file in Python?\n",
        "\n",
        "with open(\"example.txt\", \"a\") as file:\n",
        "    file.write(\"\\nThis is new appended data.\")\n"
      ],
      "metadata": {
        "id": "5ZygtIAU8-5C"
      },
      "execution_count": 12,
      "outputs": []
    },
    {
      "cell_type": "code",
      "source": [
        "#11. Write a Python program that uses a try-except block to handle an error when attempting to access a dictionary key that doesn't exist.\n",
        "\n",
        "my_dict = {\"name\": \"Shivam\", \"age\": 19}\n",
        "\n",
        "try:\n",
        "    print(my_dict[\"city\"])\n",
        "except KeyError:\n",
        "    print(\"Error: Key not found in dictionary.\")\n"
      ],
      "metadata": {
        "colab": {
          "base_uri": "https://localhost:8080/"
        },
        "id": "0u6Prsw49Hzy",
        "outputId": "5a8735ce-29cc-49b1-8963-7c9d57080b38"
      },
      "execution_count": 13,
      "outputs": [
        {
          "output_type": "stream",
          "name": "stdout",
          "text": [
            "Error: Key not found in dictionary.\n"
          ]
        }
      ]
    },
    {
      "cell_type": "code",
      "source": [
        "#12.Write a program that demonstrates using multiple except blocks to handle different types of exceptions.\n",
        "\n",
        "try:\n",
        "    num1 = int(input(\"Enter a number: \"))\n",
        "    num2 = int(input(\"Enter another number: \"))\n",
        "    result = num1 / num2\n",
        "    print(\"Result:\", result)\n",
        "\n",
        "    sample_list = [1, 2, 3]\n",
        "    print(\"Accessing element at index 5:\", sample_list[5])\n",
        "\n",
        "except ZeroDivisionError:\n",
        "    print(\"Error: Cannot divide by zero!\")\n",
        "\n",
        "except ValueError:\n",
        "    print(\"Error: Invalid input! Please enter a valid integer.\")\n",
        "\n",
        "except IndexError:\n",
        "    print(\"Error: List index out of range!\")\n",
        "\n",
        "except Exception as e:\n",
        "    print(\"An unexpected error occurred:\", e)\n"
      ],
      "metadata": {
        "colab": {
          "base_uri": "https://localhost:8080/"
        },
        "id": "iQcBV6Ic9TYu",
        "outputId": "7a6b2c35-59ac-4a0e-886c-4793206653e9"
      },
      "execution_count": 15,
      "outputs": [
        {
          "output_type": "stream",
          "name": "stdout",
          "text": [
            "Enter a number: 12\n",
            "Enter another number: 23\n",
            "Result: 0.5217391304347826\n",
            "Error: List index out of range!\n"
          ]
        }
      ]
    },
    {
      "cell_type": "code",
      "source": [
        "#13.How would you check if a file exists before attempting to read it in Python?\n",
        "\n",
        "import os\n",
        "\n",
        "filename = \"example.txt\"\n",
        "\n",
        "if os.path.exists(filename):\n",
        "    with open(filename, \"r\") as file:\n",
        "        content = file.read()\n",
        "        print(content)\n",
        "else:\n",
        "    print(\"File does not exist.\")\n"
      ],
      "metadata": {
        "colab": {
          "base_uri": "https://localhost:8080/"
        },
        "id": "Y1vuXByf9r-t",
        "outputId": "2ea949c9-53c0-4616-ae87-e8a263264901"
      },
      "execution_count": 16,
      "outputs": [
        {
          "output_type": "stream",
          "name": "stdout",
          "text": [
            "Hello, Python!\n",
            "This is new appended data.\n"
          ]
        }
      ]
    },
    {
      "cell_type": "code",
      "source": [
        "#14.Write a program that uses the logging module to log both informational and error messages.\n",
        "\n",
        "import logging\n",
        "\n",
        "logging.basicConfig(level=logging.INFO, format='%(asctime)s - %(levelname)s - %(message)s')\n",
        "\n",
        "logging.info(\"This is an informational message.\")\n",
        "logging.error(\"This is an error message.\")\n",
        "\n",
        "try:\n",
        "    x = 10 / 0\n",
        "except ZeroDivisionError:\n",
        "    logging.error(\"Attempted to divide by zero.\")\n"
      ],
      "metadata": {
        "colab": {
          "base_uri": "https://localhost:8080/"
        },
        "id": "cWMc9rNR90kk",
        "outputId": "98be4ea5-367f-4f81-9e81-cbab5da81b1e"
      },
      "execution_count": 17,
      "outputs": [
        {
          "output_type": "stream",
          "name": "stderr",
          "text": [
            "ERROR:root:This is an error message.\n",
            "ERROR:root:Attempted to divide by zero.\n"
          ]
        }
      ]
    },
    {
      "cell_type": "code",
      "source": [
        "#15. Write a Python program that prints the content of a file and handles the case when the file is empty.\n",
        "\n",
        "filename = \"example.txt\"\n",
        "\n",
        "try:\n",
        "    with open(filename, \"r\") as file:\n",
        "        content = file.read()\n",
        "        if content:\n",
        "            print(content)\n",
        "        else:\n",
        "            print(\"The file is empty.\")\n",
        "except FileNotFoundError:\n",
        "    print(\"File does not exist.\")\n"
      ],
      "metadata": {
        "colab": {
          "base_uri": "https://localhost:8080/"
        },
        "id": "HgpAhW_I-Cb8",
        "outputId": "5766b67c-a300-425f-bcd8-f4a574caa911"
      },
      "execution_count": 18,
      "outputs": [
        {
          "output_type": "stream",
          "name": "stdout",
          "text": [
            "Hello, Python!\n",
            "This is new appended data.\n"
          ]
        }
      ]
    },
    {
      "cell_type": "code",
      "source": [
        "#16. Demonstrate how to use memory profiling to check the memory usage of a small program.\n",
        "\n",
        "from memory_profiler import profile\n",
        "\n",
        "@profile\n",
        "def my_function():\n",
        "    numbers = [i for i in range(100000)]\n",
        "    squares = [i**2 for i in numbers]\n",
        "    return sum(squares)\n",
        "\n",
        "if __name__ == \"__main__\":\n",
        "    result = my_function()\n",
        "    print(\"Sum of squares:\", result)\n"
      ],
      "metadata": {
        "id": "WwdcD_7B-KIG"
      },
      "execution_count": null,
      "outputs": []
    },
    {
      "cell_type": "code",
      "source": [
        "#17.Write a Python program to create and write a list of numbers to a file, one number per line.\n",
        "\n",
        "numbers = [1, 2, 3, 4, 5]\n",
        "\n",
        "with open(\"numbers.txt\", \"w\") as file:\n",
        "    for number in numbers:\n",
        "        file.write(f\"{number}\\n\")\n"
      ],
      "metadata": {
        "id": "0Dl8U4ab-S70"
      },
      "execution_count": 21,
      "outputs": []
    },
    {
      "cell_type": "code",
      "source": [
        "#18.How would you implement a basic logging setup that logs to a file with rotation after 1MB?\n",
        "\n",
        "import logging\n",
        "from logging.handlers import RotatingFileHandler\n",
        "\n",
        "logger = logging.getLogger(\"MyLogger\")\n",
        "logger.setLevel(logging.INFO)\n",
        "\n",
        "handler = RotatingFileHandler(\"app.log\", maxBytes=1_000_000, backupCount=3)\n",
        "formatter = logging.Formatter('%(asctime)s - %(levelname)s - %(message)s')\n",
        "handler.setFormatter(formatter)\n",
        "\n",
        "logger.addHandler(handler)\n",
        "\n",
        "logger.info(\"This is an informational message.\")\n",
        "logger.error(\"This is an error message.\")\n"
      ],
      "metadata": {
        "colab": {
          "base_uri": "https://localhost:8080/"
        },
        "id": "js_9ARxw-aOn",
        "outputId": "29aad4d2-8dcf-4000-d914-4b58e604542a"
      },
      "execution_count": 22,
      "outputs": [
        {
          "output_type": "stream",
          "name": "stderr",
          "text": [
            "INFO:MyLogger:This is an informational message.\n",
            "ERROR:MyLogger:This is an error message.\n"
          ]
        }
      ]
    },
    {
      "cell_type": "code",
      "source": [
        "#19.Write a program that handles both IndexError and KeyError using a try-except block.\n",
        "\n",
        "my_list = [10, 20, 30]\n",
        "my_dict = {\"a\": 1, \"b\": 2}\n",
        "\n",
        "try:\n",
        "    print(my_list[5])\n",
        "    print(my_dict[\"c\"])\n",
        "except IndexError:\n",
        "    print(\"Caught an IndexError: List index out of range.\")\n",
        "except KeyError:\n",
        "    print(\"Caught a KeyError: Key not found in dictionary.\")\n"
      ],
      "metadata": {
        "colab": {
          "base_uri": "https://localhost:8080/"
        },
        "id": "o6wHe1cC-ktr",
        "outputId": "65b21573-16f3-4bb1-9d1e-6421cb174753"
      },
      "execution_count": 23,
      "outputs": [
        {
          "output_type": "stream",
          "name": "stdout",
          "text": [
            "Caught an IndexError: List index out of range.\n"
          ]
        }
      ]
    },
    {
      "cell_type": "code",
      "source": [
        "#20.How would you open a file and read its contents using a context manager in Python?\n",
        "\n",
        "filename = \"example.txt\"\n",
        "\n",
        "with open(filename, \"r\") as file:\n",
        "    content = file.read()\n",
        "    print(content)\n"
      ],
      "metadata": {
        "colab": {
          "base_uri": "https://localhost:8080/"
        },
        "id": "0MfJk10b-2Zl",
        "outputId": "440441b4-de07-4397-bc1b-61d285174bc2"
      },
      "execution_count": 24,
      "outputs": [
        {
          "output_type": "stream",
          "name": "stdout",
          "text": [
            "Hello, Python!\n",
            "This is new appended data.\n"
          ]
        }
      ]
    },
    {
      "cell_type": "code",
      "source": [
        "#21.Write a Python program that reads a file and prints the number of occurrences of a specific word.\n",
        "\n",
        "filename = \"example.txt\"\n",
        "word_to_count = \"python\"\n",
        "\n",
        "try:\n",
        "    with open(filename, \"r\") as file:\n",
        "        content = file.read()\n",
        "        count = content.lower().split().count(word_to_count.lower())\n",
        "        print(f\"The word '{word_to_count}' occurs {count} times.\")\n",
        "except FileNotFoundError:\n",
        "    print(\"File does not exist.\")\n"
      ],
      "metadata": {
        "colab": {
          "base_uri": "https://localhost:8080/"
        },
        "id": "QNohsHEk_IFl",
        "outputId": "a8a9d914-5ec8-4a98-c22a-e385096b0563"
      },
      "execution_count": 25,
      "outputs": [
        {
          "output_type": "stream",
          "name": "stdout",
          "text": [
            "The word 'python' occurs 0 times.\n"
          ]
        }
      ]
    },
    {
      "cell_type": "code",
      "source": [
        "#22.How can you check if a file is empty before attempting to read its contents?\n",
        "\n",
        "import os\n",
        "\n",
        "filename = \"example.txt\"\n",
        "\n",
        "if os.path.exists(filename) and os.path.getsize(filename) > 0:\n",
        "    with open(filename, \"r\") as file:\n",
        "        content = file.read()\n",
        "        print(content)\n",
        "else:\n",
        "    print(\"File is empty or does not exist.\")\n"
      ],
      "metadata": {
        "colab": {
          "base_uri": "https://localhost:8080/"
        },
        "id": "jD2Vj8oH_PR8",
        "outputId": "d5d0854c-a31d-443e-bd11-34e718340028"
      },
      "execution_count": 26,
      "outputs": [
        {
          "output_type": "stream",
          "name": "stdout",
          "text": [
            "Hello, Python!\n",
            "This is new appended data.\n"
          ]
        }
      ]
    },
    {
      "cell_type": "code",
      "source": [
        "#23.Write a Python program that writes to a log file when an error occurs during file handling.\n",
        "\n",
        "import logging\n",
        "\n",
        "logging.basicConfig(filename=\"error.log\", level=logging.ERROR,\n",
        "                    format='%(asctime)s - %(levelname)s - %(message)s')\n",
        "\n",
        "filename = \"example.txt\"\n",
        "\n",
        "try:\n",
        "    with open(filename, \"r\") as file:\n",
        "        content = file.read()\n",
        "        print(content)\n",
        "except Exception as e:\n",
        "    logging.error(f\"An error occurred while handling the file: {e}\")\n",
        "    print(\"An error occurred. Check error.log for details.\")\n"
      ],
      "metadata": {
        "colab": {
          "base_uri": "https://localhost:8080/"
        },
        "id": "F5pXI_yw_bDQ",
        "outputId": "11a44b29-6526-47e9-c35c-2f1e80159032"
      },
      "execution_count": 27,
      "outputs": [
        {
          "output_type": "stream",
          "name": "stdout",
          "text": [
            "Hello, Python!\n",
            "This is new appended data.\n"
          ]
        }
      ]
    }
  ]
}